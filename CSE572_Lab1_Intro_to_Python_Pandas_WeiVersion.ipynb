{
  "cells": [
    {
      "cell_type": "markdown",
      "metadata": {
        "id": "view-in-github",
        "colab_type": "text"
      },
      "source": [
        "<a href=\"https://colab.research.google.com/github/Yiyongwei1216/Continuous-Auscultation-Monitoring-System/blob/main/CSE572_Lab1_Intro_to_Python_Pandas_WeiVersion.ipynb\" target=\"_parent\"><img src=\"https://colab.research.google.com/assets/colab-badge.svg\" alt=\"Open In Colab\"/></a>"
      ]
    },
    {
      "cell_type": "markdown",
      "metadata": {
        "id": "XVwFfRJY45Ez"
      },
      "source": [
        "# CSE 572: Lab 1\n",
        "\n",
        "This lab contains two modules:\n",
        "1.   Module 1: Introduction to Python\n",
        "2.   Module 2: Introduction to Numpy and Pandas\n",
        "\n",
        "At the end there is a practice exercise in which you will use some of the operations from Modules 1 and 2.\n",
        "\n",
        "To execute and make changes to this notebook, click File > Save a copy to save your own version in your Google Drive or Github. Read the step-by-step instructions below carefully. To execute the code, click on each cell below and press the SHIFT-ENTER keys simultaneously or by clicking the Play button.\n",
        "\n",
        "When you finish executing all code/exercises, save your notebook then download a copy (.ipynb file). Submit:\n",
        "\n",
        "1) .ipynb file\n",
        "\n",
        "2) link to your Colab notebook saved on your Google Drive (set the sharing options to share with anyone at ASU so the TA can view it). This should be added as a comment on your submission.\n",
        "\n",
        "3) pdf of executed notebook (In Colab, click File > Print > Save as PDF). Sometimes if you print too many values, the PDF would not contain the results later. **It is your responsibility to make sure the PDF containing all the results you have.**"
      ]
    },
    {
      "cell_type": "markdown",
      "source": [
        "# **PUT YOUR GROUP INFO HERE**\n",
        "\n",
        "| Group number | August Group XXX |            |\n",
        "|--------------|------------------|------------|\n",
        "| Member 1     | NAME             | ASURITE ID |\n",
        "| Member 2     |                  |            |\n",
        "| Member 3     |                  |            |\n",
        "| Member 4     |                  |            |"
      ],
      "metadata": {
        "id": "fMsyODh_3IPd"
      }
    },
    {
      "cell_type": "markdown",
      "metadata": {
        "id": "WJiv__lc4Hze"
      },
      "source": [
        "# Module 1: Introduction to Python\n",
        "\n",
        "Python is a high-level programming language with extensive libraries available to perform various data analysis tasks.\n",
        "The following tutorial contains examples of using various data types, functions, and library modules available in the standard Python library.\n",
        "\n",
        "We begin with some basic information about Python:\n",
        "1. Python is an interpreted language, unlike other high-level programming languages such as C or C++. You only need to submit your Python program to an interpreter for execution, without having to explicitly compile and link the code first.\n",
        "\n",
        "2. Python is a dynamically typed language, which means variable names are bound to their respective types during execution time. You do not have to explicitly declare the type of a variable before using it in the code unlike Java, C++, and other statically-typed languages.\n",
        "\n",
        "3. Instead of using braces '{' and '}', Python uses whitespace indentation to group together related statements in loops or other control-flow statements.\n",
        "\n",
        "4. Python uses the hash character ('#') to precede single-line comments. Triple-quoted strings (''') are commonly used to denote multi-line comments (even though it is not part of the standard Python language) or docstring of functions.\n",
        "\n",
        "5. Python uses pass by reference (instead of pass by value) when assigning a variable to another (e.g., a = b) or when passing an object as input argument to a function. Thus, any modification to the assigned variable or to the input argument within the function will affect the original object.  \n",
        "\n",
        "6. Python uses `None` to denote a null object (e.g., a = None). You do not have to terminate each statement with a terminating character (such as a semicolon) unlike other languages.\n",
        "\n",
        "7. You may access the variables or functions defined in another Python program file using the `import` command. This is analogous to the `import` command in Java or the `#include` command in C or C++."
      ]
    },
    {
      "cell_type": "markdown",
      "metadata": {
        "id": "FLm6IlGs4Hzh"
      },
      "source": [
        "## 1.1 Elementary Data Types\n",
        "\n",
        "The standard Python library provides support for various elementary data types, including including integers, booleans, floating points, and strings. A summary of the data types is shown in the table below.\n",
        "\n",
        "| &nbsp;  |      Data Type    |   Example   |\n",
        "|:--------|:-----------------:|:------------|\n",
        "|Number   | Integer           | x = 4       |\n",
        "| &nbsp;  | Long integer      | x = 15L     |\n",
        "| &nbsp;  | Floating point    | x = 3.142   |\n",
        "| &nbsp;  | Boolean           | x = True    |\n",
        "|Text     | Character         | x = 'c'     |\n",
        "| &nbsp;  | String            | x = \"this\" or x = 'this' |"
      ]
    },
    {
      "cell_type": "code",
      "execution_count": 1,
      "metadata": {
        "id": "pcGGeqM_4Hzi",
        "colab": {
          "base_uri": "https://localhost:8080/"
        },
        "outputId": "cfcc1b06-6f15-4a4f-a9d6-1d5b966ef1f8"
      },
      "outputs": [
        {
          "output_type": "stream",
          "name": "stdout",
          "text": [
            "4 <class 'int'>\n",
            "True <class 'bool'>\n",
            "3.7 <class 'float'>\n",
            "This is a string <class 'str'>\n"
          ]
        }
      ],
      "source": [
        "x = 4              # integer\n",
        "print(x, type(x))\n",
        "\n",
        "y = True           # boolean (True, False)\n",
        "print(y, type(y))\n",
        "\n",
        "z = 3.7            # floating point\n",
        "print(z, type(z))\n",
        "\n",
        "s = \"This is a string\"    # string\n",
        "print(s, type(s))"
      ]
    },
    {
      "cell_type": "markdown",
      "metadata": {
        "id": "xMUnTNfK4Hzj"
      },
      "source": [
        "The following are some of the arithmetic operations available for manipulating integers and floating point numbers"
      ]
    },
    {
      "cell_type": "code",
      "execution_count": null,
      "metadata": {
        "id": "3J-wLIr34Hzj"
      },
      "outputs": [],
      "source": [
        "x = 4            # integer\n",
        "x1 = x + 4       # addition\n",
        "x2 = x * 3       # multiplication\n",
        "x += 2           # equivalent to x = x + 2\n",
        "x3 = x\n",
        "x *= 3           # equivalent to x = x * 3\n",
        "x4 = x\n",
        "x5 = x % 4       # modulo (remainder) operator\n",
        "\n",
        "z = 3.7          # floating point number\n",
        "z1 = z - 2       # subtraction\n",
        "z2 = z / 3       # division\n",
        "z3 = z // 3      # integer division\n",
        "z4 = z ** 2      # square of z\n",
        "z5 = z4 ** 0.5   # square root\n",
        "z6 = pow(z,2)    # equivalent to square of z\n",
        "z7 = round(z)    # rounding z to its nearest integer\n",
        "z8 = int(z)      # type casting float to int\n",
        "\n",
        "print(x,x1,x2,x3,x4,x5)\n",
        "print(z,z1,z2,z3,z4)\n",
        "print(z5,z6,z7,z8)"
      ]
    },
    {
      "cell_type": "markdown",
      "metadata": {
        "id": "PRtv2pIf4Hzk"
      },
      "source": [
        "The following are some of the functions provided by the math module for integers and floating point numbers"
      ]
    },
    {
      "cell_type": "code",
      "execution_count": null,
      "metadata": {
        "id": "WEtAf-WA4Hzk",
        "scrolled": true
      },
      "outputs": [],
      "source": [
        "import math\n",
        "\n",
        "x = 4\n",
        "print(math.sqrt(x))      # sqrt(4) = 2\n",
        "print(math.pow(x,2))     # 4**2 = 16\n",
        "print(math.exp(x))       # exp(4) = 54.6\n",
        "print(math.log(x,2))     # log based 2  (default is natural logarithm)\n",
        "print(math.fabs(-4))     # absolute value\n",
        "print(math.factorial(x)) # 4! = 4 x 3 x 2 x 1 = 24\n",
        "\n",
        "z = 0.2\n",
        "print(math.ceil(z))      # ceiling function\n",
        "print(math.floor(z))     # floor function\n",
        "print(math.trunc(z))     # truncate function\n",
        "\n",
        "z = 3*math.pi            # math.pi = 3.141592653589793\n",
        "print(math.sin(z))       # sine function\n",
        "print(math.tanh(z))      # arctan function\n",
        "\n",
        "x = math.nan             # not a number\n",
        "print(math.isnan(x))\n",
        "\n",
        "x = math.inf             # infinity\n",
        "print(math.isinf(x))"
      ]
    },
    {
      "cell_type": "markdown",
      "metadata": {
        "collapsed": true,
        "id": "tBomt_Qp4Hzl"
      },
      "source": [
        "The following are some of the logical operations available for booleans"
      ]
    },
    {
      "cell_type": "code",
      "execution_count": null,
      "metadata": {
        "id": "CgOsci3x4Hzl"
      },
      "outputs": [],
      "source": [
        "y1 = True\n",
        "y2 = False\n",
        "\n",
        "print(y1 and y2)       # logical AND\n",
        "print(y1 or y2)        # logical OR\n",
        "print(y1 and not y2)   # logical NOT"
      ]
    },
    {
      "cell_type": "markdown",
      "metadata": {
        "id": "hCytPHq64Hzm"
      },
      "source": [
        "The following are some of the operations and functions for manipulating strings"
      ]
    },
    {
      "cell_type": "code",
      "execution_count": null,
      "metadata": {
        "id": "lR_MkZdx4Hzm"
      },
      "outputs": [],
      "source": [
        "s1 = \"This\"\n",
        "\n",
        "print(s1[1:])                    # print last three characters\n",
        "print(len(s1))                               # get the string length\n",
        "print(\"Length of string is \" + str(len(s1))) # type casting int to str\n",
        "print(s1.upper())                            # convert to upper case\n",
        "print(s1.lower())                            # convert to lower case\n",
        "\n",
        "s2 = \"This is a string\"\n",
        "words = s2.split(' ')             # split the string into words\n",
        "print(words[0])\n",
        "print(s2.replace('a','another'))  # replace \"a\" with \"another\"\n",
        "print(s2.replace('is','at'))      # replace \"is\" with \"at\"\n",
        "print(s2.find(\"a\"))               # find the position of \"a\" in s2\n",
        "print(s1 in s2)                   # check if s1 is a substring of s2\n",
        "\n",
        "print(s1 == 'This')               # equality comparison\n",
        "print(s1 < 'That')                # inequality comparison\n",
        "print(s2 + \" too\")                # string concatenation\n",
        "print((s1 + \" \")* 3)              # replicate the string 3 times"
      ]
    },
    {
      "cell_type": "markdown",
      "metadata": {
        "id": "Gprvq-Se4Hzn"
      },
      "source": [
        "## 1.2 Compound Data Types\n",
        "\n",
        "The following examples show how to create and manipulate a list object"
      ]
    },
    {
      "cell_type": "code",
      "execution_count": null,
      "metadata": {
        "id": "6lu5cqWU4Hzn"
      },
      "outputs": [],
      "source": [
        "intlist = [1, 3, 5, 7, 9]\n",
        "print(type(intlist))\n",
        "print(intlist)\n",
        "intlist2 = list(range(0,10,2))   # range[startvalue, endvalue, stepsize]\n",
        "print(intlist2)\n",
        "\n",
        "print(intlist[2])                # get the third element of the list\n",
        "print(intlist[:2])               # get the first two elements\n",
        "print(intlist[2:])               # get the last three elements of the list\n",
        "print(intlist[-2:])              # get the last two elements of the list\n",
        "print(len(intlist))              # get the number of elements in the list\n",
        "print(sum(intlist))              # sums up elements of the list\n",
        "\n",
        "intlist.append(11)               # insert 11 to end of the list\n",
        "print(intlist)\n",
        "print(intlist.pop())             # remove last element of the list\n",
        "print(intlist)\n",
        "print(intlist + [11,13,15])      # concatenate two lists\n",
        "print(intlist * 3)               # replicate the list\n",
        "intlist.insert(2,4)              # insert item 4 at index 2\n",
        "print(intlist)\n",
        "intlist.sort(reverse=True)       # sort elements in descending order\n",
        "print(intlist)"
      ]
    },
    {
      "cell_type": "code",
      "execution_count": null,
      "metadata": {
        "id": "4rT-_Hxh4Hzn"
      },
      "outputs": [],
      "source": [
        "mylist = ['this', 'is', 'a', 'list']\n",
        "print(mylist)\n",
        "print(type(mylist))\n",
        "\n",
        "print(\"list\" in mylist)          # check whether \"list\" is in mylist\n",
        "print(mylist[2])                 # show the 3rd element of the list\n",
        "print(mylist[:2])                # show the first two elements of the list\n",
        "print(mylist[2:])                # show the last two elements of the list\n",
        "mylist.append(\"too\")             # insert element to end of the list\n",
        "\n",
        "separator = \" \"\n",
        "print(separator.join(mylist))    # merge all elements of the list into a string\n",
        "\n",
        "mylist.remove(\"is\")              # remove element from list\n",
        "print(mylist)"
      ]
    },
    {
      "cell_type": "markdown",
      "metadata": {
        "id": "CqE8ts0v4Hzo"
      },
      "source": [
        "The following examples show how to create and manipulate a dictionary object"
      ]
    },
    {
      "cell_type": "code",
      "execution_count": null,
      "metadata": {
        "id": "YdHFePDe4Hzo"
      },
      "outputs": [],
      "source": [
        "abbrev = {}\n",
        "abbrev['MI'] = \"Michigan\"\n",
        "abbrev['MN'] = \"Minnesota\"\n",
        "abbrev['TX'] = \"Texas\"\n",
        "abbrev['CA'] = \"California\"\n",
        "\n",
        "print(abbrev)\n",
        "print(abbrev.keys())            # get the keys of the dictionary\n",
        "print(abbrev.values())          # get the values of the dictionary\n",
        "print(len(abbrev))              # get number of key-value pairs\n",
        "\n",
        "print(abbrev.get('MI'))\n",
        "print(\"FL\" in abbrev)\n",
        "print(\"CA\" in abbrev)"
      ]
    },
    {
      "cell_type": "code",
      "execution_count": null,
      "metadata": {
        "id": "tL66TQzh63VU"
      },
      "outputs": [],
      "source": [
        "keys = ['apples', 'oranges', 'bananas', 'cherries']\n",
        "values = [3, 4, 2, 10]\n",
        "fruits = dict(zip(keys, values))\n",
        "print(fruits)\n",
        "print(sorted(fruits))     # sort keys of dictionary\n",
        "\n",
        "from operator import itemgetter\n",
        "print(sorted(fruits.items(), key=itemgetter(0)))    # sort by key of dictionary\n",
        "print(sorted(fruits.items(), key=itemgetter(1)))    # sort by value of dictionary"
      ]
    },
    {
      "cell_type": "markdown",
      "metadata": {
        "id": "YLe3-CGH4Hzo"
      },
      "source": [
        "The following examples show how to create and manipulate a tuple object. Unlike a list, a tuple object is immutable, i.e., they cannot be modified after creation."
      ]
    },
    {
      "cell_type": "code",
      "execution_count": null,
      "metadata": {
        "id": "O8FoMBO34Hzo"
      },
      "outputs": [],
      "source": [
        "MItuple = ('MI', 'Michigan', 'Lansing')\n",
        "CAtuple = ('CA', 'California', 'Sacramento')\n",
        "TXtuple = ('TX', 'Texas', 'Austin')\n",
        "\n",
        "print(MItuple)\n",
        "print(MItuple[1:])\n",
        "\n",
        "states = [MItuple, CAtuple, TXtuple]    # this will create a list of tuples\n",
        "print(states)\n",
        "print(states[2]) # print the third tuple in the list\n",
        "print(states[2][:]) # print all the values in the third tuple\n",
        "print(states[2][1:]) # print the last two values in the third tuple\n",
        "\n",
        "states.sort(key=lambda state: state[2])  # sort the states by their capital cities (last value in list)\n",
        "print(states)"
      ]
    },
    {
      "cell_type": "markdown",
      "metadata": {
        "id": "Ye5okI-s4Hzp"
      },
      "source": [
        "## 1.3 Control Flow Statements\n",
        "\n",
        "Similar to other programming languages, the control flow statements in Python include if, for, and while statements. Examples on how to use these statements are shown below."
      ]
    },
    {
      "cell_type": "code",
      "execution_count": null,
      "metadata": {
        "id": "2bH2koES4Hzp"
      },
      "outputs": [],
      "source": [
        "# using if-else statement\n",
        "\n",
        "x = 10\n",
        "\n",
        "if x % 2 == 0:\n",
        "    print(\"x =\", x, \"is even\")\n",
        "else:\n",
        "    print(\"x =\", x, \"is odd\")\n",
        "\n",
        "if x > 0:\n",
        "    print(\"x =\", x, \"is positive\")\n",
        "elif x < 0:\n",
        "    print(\"x =\", x, \"is negative\")\n",
        "else:\n",
        "    print(\"x =\", x, \"is neither positive nor negative\")"
      ]
    },
    {
      "cell_type": "code",
      "execution_count": null,
      "metadata": {
        "id": "uAAsYQ-R4Hzp"
      },
      "outputs": [],
      "source": [
        "# using for loop with a list\n",
        "\n",
        "mylist = ['this', 'is', 'a', 'list']\n",
        "for word in mylist:\n",
        "    print(word.replace(\"is\", \"at\"))\n",
        "\n",
        "mylist2 = [len(word) for word in mylist]   # number of characters in each word\n",
        "print(mylist2)"
      ]
    },
    {
      "cell_type": "code",
      "execution_count": null,
      "metadata": {
        "id": "nkrnBoTk7Xwz"
      },
      "outputs": [],
      "source": [
        "# using for loop with list of tuples\n",
        "\n",
        "states = [('MI', 'Michigan', 'Lansing'),('CA', 'California', 'Sacramento'),\n",
        "          ('TX', 'Texas', 'Austin')]\n",
        "\n",
        "sorted_capitals = [state[2] for state in states]\n",
        "sorted_capitals.sort()\n",
        "print(sorted_capitals)"
      ]
    },
    {
      "cell_type": "code",
      "execution_count": null,
      "metadata": {
        "id": "Ksn5nPTc7X3C"
      },
      "outputs": [],
      "source": [
        "# using for loop with dictionary\n",
        "\n",
        "fruits = {'apples': 3, 'oranges': 4, 'bananas': 2, 'cherries': 10}\n",
        "fruitnames = [k for (k,v) in fruits.items()]\n",
        "print(fruitnames)"
      ]
    },
    {
      "cell_type": "code",
      "execution_count": null,
      "metadata": {
        "id": "QQy8IAZ64Hzp"
      },
      "outputs": [],
      "source": [
        "# using while loop\n",
        "\n",
        "mylist = list(range(-10,10))\n",
        "print(mylist)\n",
        "\n",
        "i = 0\n",
        "while (mylist[i] < 0):\n",
        "    i = i + 1\n",
        "\n",
        "print(\"First non-negative number:\", mylist[i])\n"
      ]
    },
    {
      "cell_type": "markdown",
      "metadata": {
        "id": "eaz47WDf4Hzp"
      },
      "source": [
        "## 1.4 User-Defined Functions\n",
        "\n",
        "You can create your own functions in Python, which can be named or unnamed. Unnamed functions are defined using the lambda keyword as shown in the previous example for sorting a list of tuples."
      ]
    },
    {
      "cell_type": "code",
      "execution_count": null,
      "metadata": {
        "id": "OBiu0dA44Hzq"
      },
      "outputs": [],
      "source": [
        "myfunc = lambda x: 3*x**2 - 2*x + 3      # example of an unnamed quadratic function\n",
        "\n",
        "print(myfunc(2))"
      ]
    },
    {
      "cell_type": "code",
      "execution_count": null,
      "metadata": {
        "id": "03osRRxD4Hzq"
      },
      "outputs": [],
      "source": [
        "import math\n",
        "\n",
        "# The following function will discard missing values from a list\n",
        "def discard(inlist, sortFlag=False):    # default value for sortFlag is False\n",
        "    outlist = []\n",
        "    for item in inlist:\n",
        "        if not math.isnan(item):\n",
        "            outlist.append(item)\n",
        "\n",
        "    if sortFlag:\n",
        "        outlist.sort()\n",
        "    return outlist\n",
        "\n",
        "mylist = [12, math.nan, 23, -11, 45, math.nan, 71]\n",
        "\n",
        "print(discard(mylist,True))"
      ]
    },
    {
      "cell_type": "markdown",
      "metadata": {
        "id": "O16R0VrY4Hzq"
      },
      "source": [
        "## 1.5 File I/O\n",
        "\n",
        "You can read and write data from a list or other objects to a file."
      ]
    },
    {
      "cell_type": "code",
      "execution_count": null,
      "metadata": {
        "id": "9eXaUnY_4Hzq"
      },
      "outputs": [],
      "source": [
        "states = [('MI', 'Michigan', 'Lansing'),('CA', 'California', 'Sacramento'),\n",
        "          ('TX', 'Texas', 'Austin'), ('MN', 'Minnesota', 'St Paul')]\n",
        "\n",
        "with open('states.txt', 'w') as f:\n",
        "    f.write('\\n'.join('%s,%s,%s' % state for state in states))\n",
        "\n",
        "with open('states.txt', 'r') as f:\n",
        "    for line in f:\n",
        "        fields = line.split(sep=',')    # split each line into its respective fields\n",
        "        print('State=',fields[1],'(',fields[0],')','Capital:', fields[2])"
      ]
    },
    {
      "cell_type": "markdown",
      "metadata": {
        "id": "tiJ2qIFs8eFL"
      },
      "source": [
        "# Module 2: Introduction to Numpy and Pandas\n",
        "\n",
        "The following tutorial contains examples of using the numpy and pandas library modules."
      ]
    },
    {
      "cell_type": "markdown",
      "metadata": {
        "id": "wPqEga6N8eFO"
      },
      "source": [
        "## 2.1 Introduction to Numpy\n",
        "\n",
        "Numpy, which stands for numerical Python, is a Python library package to support numerical computations. The basic data structure in numpy is a multi-dimensional array object called ndarray. Numpy provides a suite of functions that can efficiently manipulate elements of the ndarray.\n",
        "\n",
        "### 2.1.1 Creating ndarray\n",
        "\n",
        "An ndarray can be created from a list or a tuple object as shown in the examples below. It is possible to create a 1-dimensional or multi-dimensional array from the list objects as well as tuples."
      ]
    },
    {
      "cell_type": "code",
      "execution_count": null,
      "metadata": {
        "id": "txAiuLoK8eFO",
        "colab": {
          "base_uri": "https://localhost:8080/"
        },
        "outputId": "7e187290-7a22-4fe4-9e4d-228a5211145f"
      },
      "outputs": [
        {
          "output_type": "stream",
          "name": "stdout",
          "text": [
            "[1. 2. 3. 4. 5.]\n",
            "#Dimensions = 1\n",
            "Dimension = (5,)\n",
            "Size = 5\n",
            "Array type = float64 \n",
            "\n",
            "[[1 2]\n",
            " [3 4]\n",
            " [5 6]\n",
            " [7 8]]\n",
            "#Dimensions = 2\n",
            "Dimension = (4, 2)\n",
            "Size = 8\n",
            "Array type = int64 \n",
            "\n",
            "[['1' 'a' '3.0']\n",
            " ['2' 'b' '3.5']]\n",
            "#Dimensions = 2\n",
            "Dimension = (2, 3)\n",
            "Size = 6\n"
          ]
        }
      ],
      "source": [
        "import numpy as np\n",
        "\n",
        "oneDim = np.array([1.0,2,3,4,5])   # a 1-dimensional array (vector)\n",
        "print(oneDim)\n",
        "print(\"#Dimensions =\", oneDim.ndim)\n",
        "print(\"Dimension =\", oneDim.shape)\n",
        "print(\"Size =\", oneDim.size)\n",
        "print(\"Array type =\", oneDim.dtype, '\\n')\n",
        "\n",
        "twoDim = np.array([[1,2],[3,4],[5,6],[7,8]])  # a two-dimensional array (matrix)\n",
        "print(twoDim)\n",
        "print(\"#Dimensions =\", twoDim.ndim)\n",
        "print(\"Dimension =\", twoDim.shape)\n",
        "print(\"Size =\", twoDim.size)\n",
        "print(\"Array type =\", twoDim.dtype, '\\n')\n",
        "\n",
        "arrFromTuple = np.array([(1,'a',3.0),(2,'b',3.5)])  # create ndarray from tuple\n",
        "print(arrFromTuple)\n",
        "print(\"#Dimensions =\", arrFromTuple.ndim)\n",
        "print(\"Dimension =\", arrFromTuple.shape)\n",
        "print(\"Size =\", arrFromTuple.size)"
      ]
    },
    {
      "cell_type": "markdown",
      "metadata": {
        "id": "rC5i_a1O8eFP"
      },
      "source": [
        "There are also built-in functions available in numpy to create the ndarrays."
      ]
    },
    {
      "cell_type": "code",
      "execution_count": null,
      "metadata": {
        "id": "CSkDAuLt8eFQ"
      },
      "outputs": [],
      "source": [
        "print('Array of random numbers from a uniform distribution')\n",
        "print(np.random.rand(5))      # random numbers from a uniform distribution between [0,1]\n",
        "\n",
        "print('\\nArray of random numbers from a normal distribution')\n",
        "print(np.random.randn(5))     # random numbers from a normal distribution\n",
        "\n",
        "print('\\nArray of integers between -10 and 10, with step size of 2')\n",
        "print(np.arange(-10,10,2))    # similar to range, but returns ndarray instead of list\n",
        "\n",
        "print('\\n2-dimensional array of integers from 0 to 11')\n",
        "print(np.arange(12).reshape(3,4))  # reshape to a matrix\n",
        "\n",
        "print('\\nArray of values between 0 and 1, split into 10 equally spaced values')\n",
        "print(np.linspace(0,1,10))    # split interval [0,1] into 10 equally separated values\n",
        "\n",
        "print('\\nArray of values from 10^-3 to 10^3')\n",
        "print(np.logspace(-3,3,7))    # create ndarray with values from 10^-3 to 10^3"
      ]
    },
    {
      "cell_type": "code",
      "execution_count": null,
      "metadata": {
        "id": "0iwVlNoP8eFQ"
      },
      "outputs": [],
      "source": [
        "print('A 2 x 3 matrix of zeros')\n",
        "print(np.zeros((2,3)))        # a matrix of zeros\n",
        "\n",
        "print('\\nA 3 x 2 matrix of ones')\n",
        "print(np.ones((3,2)))         # a matrix of ones\n",
        "\n",
        "print('\\nA 3 x 3 identity matrix')\n",
        "print(np.eye(3))              # a 3 x 3 identity matrix"
      ]
    },
    {
      "cell_type": "markdown",
      "metadata": {
        "id": "0POKFGJS8eFR"
      },
      "source": [
        "## 2.1.2 Element-wise Operations\n",
        "\n",
        "You can apply standard operators such as addition and multiplication on each element of the ndarray."
      ]
    },
    {
      "cell_type": "code",
      "execution_count": null,
      "metadata": {
        "id": "rNrS-RtY8eFR"
      },
      "outputs": [],
      "source": [
        "x = np.array([1,2,3,4,5])\n",
        "\n",
        "print('x =', x)\n",
        "print('x + 1 =', x + 1)      # addition\n",
        "print('x - 1 =', x - 1)      # subtraction\n",
        "print('x * 2 =', x * 2)      # multiplication\n",
        "print('x // 2 =', x // 2)     # integer division\n",
        "print('x ** 2 =', x ** 2)     # square\n",
        "print('x % 2 =', x % 2)      # modulo\n",
        "print('1 / x =', 1 / x)      # division"
      ]
    },
    {
      "cell_type": "code",
      "execution_count": null,
      "metadata": {
        "id": "oL3nyflj8eFS"
      },
      "outputs": [],
      "source": [
        "x = np.array([2,4,6,8,10])\n",
        "y = np.array([1,2,3,4,5])\n",
        "\n",
        "print('x =', x)\n",
        "print('y =', y)\n",
        "print('x + y =', x + y)      # element-wise addition\n",
        "print('x - y =', x - y)      # element-wise subtraction\n",
        "print('x * y =', x * y)      # element-wise multiplication\n",
        "print('x / y =', x / y)      # element-wise division\n",
        "print('x // y =', x // y)    # element-wise integer division\n",
        "print('x ** y =', x ** y)    # element-wise exponentiation"
      ]
    },
    {
      "cell_type": "markdown",
      "metadata": {
        "id": "jUQAoEk88eFS"
      },
      "source": [
        "## 2.1.3 Indexing and Slicing\n",
        "\n",
        "There are various ways to select a subset of elements within a numpy array. Assigning a numpy array (or a subset of its elements) to another variable will simply pass a reference to the array instead of copying its values. To make a copy of an ndarray, you need to explicitly call the .copy() function."
      ]
    },
    {
      "cell_type": "code",
      "execution_count": null,
      "metadata": {
        "id": "fFmQbMCR8eFT"
      },
      "outputs": [],
      "source": [
        "x = np.arange(-5,5)\n",
        "print('Before: x =', x)\n",
        "\n",
        "y = x[3:5]     # y is a slice, i.e., pointer to a subarray in x\n",
        "print('        y =', y)\n",
        "y[:] = 1000    # modifying the value of y will change x\n",
        "print('After : y =', y)\n",
        "print('        x =', x, '\\n')\n",
        "\n",
        "z = x[3:5].copy()   # makes a copy of the subarray\n",
        "print('Before: x =', x)\n",
        "print('        z =', z)\n",
        "z[:] = 500          # modifying the value of z will not affect x\n",
        "print('After : z =', z)\n",
        "print('        x =', x)"
      ]
    },
    {
      "cell_type": "markdown",
      "metadata": {
        "id": "4TfP_zqF8eFT"
      },
      "source": [
        "There are many ways to access elements of an ndarray. The following example illustrates the difference between indexing elements of a list and elements of ndarray."
      ]
    },
    {
      "cell_type": "code",
      "execution_count": null,
      "metadata": {
        "id": "GITA1NTE8eFU"
      },
      "outputs": [],
      "source": [
        "my2dlist = [[1,2,3,4],[5,6,7,8],[9,10,11,12]]  # a 2-dim list\n",
        "print('my2dlist =', my2dlist)\n",
        "print('my2dlist[2] =', my2dlist[2])            # access the third sublist\n",
        "print('my2dlist[:][2] =', my2dlist[:][2])      # can't access third element of each sublist\n",
        "# print('my2dlist[:,2] =', my2dlist[:,2])      # invalid way to access sublist, will cause syntax error\n",
        "\n",
        "my2darr = np.array(my2dlist)\n",
        "print('\\nmy2darr =\\n', my2darr)\n",
        "\n",
        "print('my2darr[2][:] =', my2darr[2][:])      # access the third row\n",
        "print('my2darr[2,:] =', my2darr[2,:])        # access the third row\n",
        "print('my2darr[:][2] =', my2darr[:][2])      # access the third row (similar to 2d list)\n",
        "print('my2darr[:,2] =', my2darr[:,2])        # access the third column\n",
        "print('my2darr[:2,2:] =\\n', my2darr[:2,2:])     # access the first two rows & last two columns"
      ]
    },
    {
      "cell_type": "markdown",
      "metadata": {
        "id": "6ckhE9Ac8eFU"
      },
      "source": [
        "Numpy arrays also support boolean indexing."
      ]
    },
    {
      "cell_type": "code",
      "execution_count": null,
      "metadata": {
        "id": "VBnc3VUW8eFU"
      },
      "outputs": [],
      "source": [
        "my2darr = np.arange(1,13,1).reshape(3,4)\n",
        "print('my2darr =\\n', my2darr)\n",
        "\n",
        "divBy3 = my2darr[my2darr % 3 == 0]\n",
        "print('\\nmy2darr[my2darr % 3 == 0] =', divBy3)            # returns all the elements divisible by 3 in an ndarray\n",
        "\n",
        "divBy3LastRow = my2darr[2:, my2darr[2,:] % 3 == 0]\n",
        "print('my2darr[2:, my2darr[2,:] % 3 == 0] =', divBy3LastRow)    # returns elements in the last row divisible by 3"
      ]
    },
    {
      "cell_type": "markdown",
      "metadata": {
        "id": "88JbejrE8eFU"
      },
      "source": [
        "More indexing examples."
      ]
    },
    {
      "cell_type": "code",
      "execution_count": null,
      "metadata": {
        "id": "0H-GSGri8eFV"
      },
      "outputs": [],
      "source": [
        "my2darr = np.arange(1,13,1).reshape(4,3)\n",
        "print('my2darr =\\n', my2darr)\n",
        "\n",
        "indices = [2,1,0,3]    # selected row indices\n",
        "print('indices =', indices, '\\n')\n",
        "print('my2darr[indices,:] =\\n', my2darr[indices,:])  # this will shuffle the rows of my2darr\n",
        "\n",
        "rowIndex = [0,0,1,2,3]     # row index into my2darr\n",
        "print('\\nrowIndex =', rowIndex)\n",
        "columnIndex = [0,2,0,1,2]  # column index into my2darr\n",
        "print('columnIndex =', columnIndex, '\\n')\n",
        "print('my2darr[rowIndex,columnIndex] =', my2darr[rowIndex,columnIndex])"
      ]
    },
    {
      "cell_type": "markdown",
      "metadata": {
        "id": "d9G--4dS8eFV"
      },
      "source": [
        "## 2.1.4 Numpy Arithmetic and Statistical Functions\n",
        "\n",
        "Numpy provides many built-in mathematical functions available for manipulating elements of an ndarray."
      ]
    },
    {
      "cell_type": "code",
      "execution_count": null,
      "metadata": {
        "id": "lgLZk7n28eFV"
      },
      "outputs": [],
      "source": [
        "y = np.array([-1.4, 0.4, -3.2, 2.5, 3.4])\n",
        "print('y =', y, '\\n')\n",
        "\n",
        "print('np.abs(y) =', np.abs(y))                # convert to absolute values\n",
        "print('np.sqrt(abs(y)) =', np.sqrt(abs(y)))    # apply square root to each element\n",
        "print('np.sign(y) =', np.sign(y))              # get the sign of each element\n",
        "print('np.exp(y) =', np.exp(y))                # apply exponentiation\n",
        "print('np.sort(y) =', np.sort(y))              # sort array"
      ]
    },
    {
      "cell_type": "code",
      "execution_count": null,
      "metadata": {
        "id": "Ngz1X5008eFV"
      },
      "outputs": [],
      "source": [
        "x = np.arange(-2,3)\n",
        "y = np.random.randn(5)\n",
        "print('x =', x)\n",
        "print('y =', y, '\\n')\n",
        "\n",
        "print('np.add(x,y) =', np.add(x,y))                # element-wise addition       x + y\n",
        "print('np.subtract(x,y) =', np.subtract(x,y))      # element-wise subtraction    x - y\n",
        "print('np.multiply(x,y) =', np.multiply(x,y))      # element-wise multiplication x * y\n",
        "print('np.divide(x,y) =', np.divide(x,y))          # element-wise division       x / y\n",
        "print('np.maximum(x,y) =', np.maximum(x,y))        # element-wise maximum        max(x,y)"
      ]
    },
    {
      "cell_type": "code",
      "execution_count": null,
      "metadata": {
        "id": "NBKUfnaI8eFW"
      },
      "outputs": [],
      "source": [
        "y = np.array([-3.2, -1.4, 0.4, 2.5, 3.4])\n",
        "print('y =', y, '\\n')\n",
        "\n",
        "print(\"Min =\", np.min(y))             # min\n",
        "print(\"Max =\", np.max(y))             # max\n",
        "print(\"Average =\", np.mean(y))        # mean/average\n",
        "print(\"Std deviation =\", np.std(y))   # standard deviation\n",
        "print(\"Sum =\", np.sum(y))             # sum"
      ]
    },
    {
      "cell_type": "markdown",
      "metadata": {
        "id": "yu9ActUA8eFW"
      },
      "source": [
        "## 2.1.5 Numpy linear algebra\n",
        "\n",
        "Numpy provides many functions to support linear algebra operations."
      ]
    },
    {
      "cell_type": "code",
      "execution_count": null,
      "metadata": {
        "id": "iqHu02EC8eFW"
      },
      "outputs": [],
      "source": [
        "X = np.random.randn(2,3)                         # create a 2 x 3 random matrix\n",
        "print('X =\\n', X, '\\n')\n",
        "print('Transpose of X, X.T =\\n', X.T, '\\n')      # matrix transpose operation X^T\n",
        "\n",
        "y = np.random.randn(3) # random vector\n",
        "print('y =', y, '\\n')\n",
        "\n",
        "print('Matrix-vector multiplication')\n",
        "print('X.dot(y) =\\n', X.dot(y), '\\n')            # matrix-vector multiplication  X * y\n",
        "\n",
        "print('Matrix-matrix product')\n",
        "print('X.dot(X.T) =', X.dot(X.T))        # matrix-matrix multiplication  X * X^T\n",
        "print('\\nX.T.dot(X) =\\n', X.T.dot(X))      # matrix-matrix multiplication  X^T * X"
      ]
    },
    {
      "cell_type": "code",
      "execution_count": null,
      "metadata": {
        "id": "MJj0VYMI8eFW"
      },
      "outputs": [],
      "source": [
        "X = np.random.randn(5,3)\n",
        "print('X =\\n', X, '\\n')\n",
        "\n",
        "C = X.T.dot(X)               # C = X^T * X is a square matrix\n",
        "print('C = X.T.dot(X) =\\n', C, '\\n')\n",
        "\n",
        "invC = np.linalg.inv(C)      # inverse of a square matrix\n",
        "print('Inverse of C = np.linalg.inv(C)\\n', invC, '\\n')\n",
        "\n",
        "detC = np.linalg.det(C)      # determinant of a square matrix\n",
        "print('Determinant of C = np.linalg.det(C) =', detC)\n",
        "\n",
        "S, U = np.linalg.eig(C)      # eigenvalue S and eigenvector U of a square matrix\n",
        "print('Eigenvalues of C =\\n', S)\n",
        "print('Eigenvectors of C =\\n', U)"
      ]
    },
    {
      "cell_type": "markdown",
      "metadata": {
        "id": "-n2JvvBu8eFW"
      },
      "source": [
        "## 2.2 Introduction to Pandas\n",
        "\n",
        "Pandas provide two convenient data structures for storing and manipulating data: Series and DataFrame. A Series is similar to a one-dimensional array whereas a DataFrame is a tabular representation akin to a spreadsheet table.  \n",
        "\n",
        "### 2.2.1 Series\n",
        "\n",
        "A Series object consists of a one-dimensional array of values, whose elements can be referenced using an index array. A Series object can be created from a list, a numpy array, or a Python dictionary. You can apply most of the numpy functions on the Series object."
      ]
    },
    {
      "cell_type": "code",
      "execution_count": null,
      "metadata": {
        "id": "h-lkdnsC8eFX",
        "colab": {
          "base_uri": "https://localhost:8080/"
        },
        "outputId": "4f528036-c604-45e0-97ea-4e1e8109d920"
      },
      "outputs": [
        {
          "output_type": "stream",
          "name": "stdout",
          "text": [
            "Series, s =\n",
            " 0    3.1\n",
            "1    2.4\n",
            "2   -1.7\n",
            "3    0.2\n",
            "4   -2.9\n",
            "5    4.5\n",
            "dtype: float64 \n",
            "\n",
            "s.values = [ 3.1  2.4 -1.7  0.2 -2.9  4.5]\n",
            "s.index = RangeIndex(start=0, stop=6, step=1)\n",
            "s.dtype = float64\n"
          ]
        }
      ],
      "source": [
        "from pandas import Series\n",
        "\n",
        "s = Series([3.1, 2.4, -1.7, 0.2, -2.9, 4.5])   # creating a series from a list\n",
        "print('Series, s =\\n', s, '\\n')\n",
        "\n",
        "print('s.values =', s.values)     # display values of the Series\n",
        "print('s.index =', s.index)       # display indices of the Series\n",
        "print('s.dtype =', s.dtype)       # display the element type of the Series"
      ]
    },
    {
      "cell_type": "code",
      "execution_count": null,
      "metadata": {
        "id": "TN7Gd1fG8eFX"
      },
      "outputs": [],
      "source": [
        "import numpy as np\n",
        "\n",
        "s2 = Series(np.random.randn(6))   # creating a series from a numpy ndarray\n",
        "print('Series s2 =\\n', s2, '\\n')\n",
        "print('s2.values =', s2.values)   # display values of the Series\n",
        "print('s2.index =', s2.index)     # display indices of the Series\n",
        "print('s2.dtype =', s2.dtype)     # display the element type of the Series"
      ]
    },
    {
      "cell_type": "code",
      "execution_count": null,
      "metadata": {
        "id": "6ZjSVEUT8eFX"
      },
      "outputs": [],
      "source": [
        "s3 = Series([1.2,2.5,-2.2,3.1,-0.8,-3.2],\n",
        "            index = ['Jan 1','Jan 2','Jan 3','Jan 4','Jan 5','Jan 6',])\n",
        "print('Series s3 =\\n', s3, '\\n')\n",
        "print('s3.values =', s3.values)   # display values of the Series\n",
        "print('s3.index =', s3.index)     # display indices of the Series\n",
        "print('s3.dtype =', s3.dtype)     # display the element type of the Series"
      ]
    },
    {
      "cell_type": "code",
      "execution_count": null,
      "metadata": {
        "id": "tUvgI8jp8eFX"
      },
      "outputs": [],
      "source": [
        "capitals = {'MI': 'Lansing', 'CA': 'Sacramento', 'TX': 'Austin', 'MN': 'St Paul'}\n",
        "\n",
        "s4 = Series(capitals)   # creating a series from dictionary object\n",
        "print('Series s4 =\\n', s4, '\\n')\n",
        "print('s4.values =', s4.values)   # display values of the Series\n",
        "print('s4.index=', s4.index)      # display indices of the Series\n",
        "print('s4.dtype =', s4.dtype)     # display the element type of the Series"
      ]
    },
    {
      "cell_type": "code",
      "execution_count": null,
      "metadata": {
        "id": "Enbb-W3h8eFX"
      },
      "outputs": [],
      "source": [
        "s3 = Series([1.2,2.5,-2.2,3.1,-0.8,-3.2],\n",
        "            index = ['Jan 1','Jan 2','Jan 3','Jan 4','Jan 5','Jan 6',])\n",
        "print('s3 =\\n', s3, '\\n')\n",
        "\n",
        "# Accessing elements of a Series\n",
        "\n",
        "print('s3[2]=', s3[2])        # display third element of the Series\n",
        "print('s3[\\'Jan 3\\']=', s3['Jan 3'])   # indexing element of a Series\n",
        "\n",
        "print('\\ns3[1:3]=')             # display a slice of the Series\n",
        "print(s3[1:3])\n",
        "print('\\ns3.iloc([1:3])=')      # display a slice of the Series\n",
        "print(s3.iloc[1:3])"
      ]
    },
    {
      "cell_type": "markdown",
      "metadata": {
        "id": "Xcaz3h6D8eFY"
      },
      "source": [
        "There are various functions available to find the number of elements in a Series. Result of the function depends on whether null elements are included."
      ]
    },
    {
      "cell_type": "code",
      "execution_count": null,
      "metadata": {
        "id": "sfLT6w5Q8eFY"
      },
      "outputs": [],
      "source": [
        "s3['Jan 7'] = np.nan\n",
        "print('Series s3 =\\n', s3, '\\n')\n",
        "\n",
        "print('Shape of s3 =', s3.shape)   # get the dimension of the Series\n",
        "print('Size of s3 =', s3.size)     # get the number of elements of the Series\n",
        "print('Count of s3 =', s3.count()) # get the number of non-null elements of the Series"
      ]
    },
    {
      "cell_type": "markdown",
      "metadata": {
        "id": "Wn3HIvUw8eFY"
      },
      "source": [
        "A boolean filter can be used to select elements of a Series"
      ]
    },
    {
      "cell_type": "code",
      "execution_count": null,
      "metadata": {
        "id": "JTq2jNlb8eFY"
      },
      "outputs": [],
      "source": [
        "print(s3[s3 > 0])   # applying filter to select non-negative elements of the Series"
      ]
    },
    {
      "cell_type": "markdown",
      "metadata": {
        "id": "firearHG8eFY"
      },
      "source": [
        "Scalar operations can be performed on elements of a numeric Series"
      ]
    },
    {
      "cell_type": "code",
      "execution_count": null,
      "metadata": {
        "id": "uqsyZpGk8eFY"
      },
      "outputs": [],
      "source": [
        "print('s3 + 4 =\\n', s3 + 4, '\\n')\n",
        "print('s3 / 4 =\\n', s3 / 4)"
      ]
    },
    {
      "cell_type": "markdown",
      "metadata": {
        "id": "5q3wHOuQ8eFY"
      },
      "source": [
        "Numpy functions can be applied to pandas Series."
      ]
    },
    {
      "cell_type": "code",
      "execution_count": null,
      "metadata": {
        "id": "T2EfiGs38eFZ"
      },
      "outputs": [],
      "source": [
        "print('np.log(s3 + 4) =\\n', np.log(s3 + 4), '\\n')    # applying log function to a numeric Series\n",
        "print('np.exp(s3 - 4) =\\n', np.exp(s3 - 4), '\\n')    # applying exponent function to a numeric Series"
      ]
    },
    {
      "cell_type": "markdown",
      "metadata": {
        "id": "onCboFfz8eFZ"
      },
      "source": [
        "The value_counts() function can be used for tabulating the counts of each discrete value in the Series."
      ]
    },
    {
      "cell_type": "code",
      "execution_count": null,
      "metadata": {
        "id": "7gI9kVTS8eFZ"
      },
      "outputs": [],
      "source": [
        "colors = Series(['red', 'blue', 'blue', 'yellow', 'red', 'green', 'blue', np.nan])\n",
        "print('colors =\\n', colors, '\\n')\n",
        "\n",
        "print('colors.value_counts() =\\n', colors.value_counts())"
      ]
    },
    {
      "cell_type": "markdown",
      "metadata": {
        "id": "IlJI16vL8eFZ"
      },
      "source": [
        "### 2.2.2 DataFrame\n",
        "\n",
        "A DataFrame object is a tabular, spreadsheet-like data structure containing a collection of columns, each of which can be of different types (numeric, string, boolean, etc). Unlike Series, a DataFrame has distinct row and column indices. There are many ways to create a DataFrame object (e.g., from a dictionary, list of tuples, or even numpy's ndarrays)."
      ]
    },
    {
      "cell_type": "code",
      "execution_count": null,
      "metadata": {
        "id": "fPdfn_sV8eFZ"
      },
      "outputs": [],
      "source": [
        "from pandas import DataFrame\n",
        "\n",
        "cars = {'make': ['Ford', 'Honda', 'Toyota', 'Tesla'],\n",
        "       'model': ['Taurus', 'Accord', 'Camry', 'Model S'],\n",
        "       'MSRP': [27595, 23570, 23495, 68000]}\n",
        "carData = DataFrame(cars)            # creating DataFrame from dictionary\n",
        "carData                              # display the table"
      ]
    },
    {
      "cell_type": "code",
      "execution_count": null,
      "metadata": {
        "id": "7MHaOU4h8eFZ"
      },
      "outputs": [],
      "source": [
        "print('carData.index =', carData.index)         # print the row indices\n",
        "print('carData.columns =', carData.columns)     # print the column indices"
      ]
    },
    {
      "cell_type": "markdown",
      "metadata": {
        "id": "pQu6pJ1t8eFZ"
      },
      "source": [
        "Inserting columns to an existing dataframe"
      ]
    },
    {
      "cell_type": "code",
      "execution_count": null,
      "metadata": {
        "id": "JrNwrxOG8eFa"
      },
      "outputs": [],
      "source": [
        "carData2 = DataFrame(cars, index = [1,2,3,4])  # change the row index\n",
        "carData2['year'] = 2018    # add column with same value\n",
        "carData2['dealership'] = ['Courtesy Ford','Capital Honda','Spartan Toyota','N/A']\n",
        "carData2                   # display table"
      ]
    },
    {
      "cell_type": "markdown",
      "metadata": {
        "id": "fHHYnaOV8eFa"
      },
      "source": [
        "Creating DataFrame from a list of tuples."
      ]
    },
    {
      "cell_type": "code",
      "execution_count": null,
      "metadata": {
        "id": "WTQbXh__8eFa"
      },
      "outputs": [],
      "source": [
        "tuplelist = [(2011,45.1,32.4),(2012,42.4,34.5),(2013,47.2,39.2),\n",
        "              (2014,44.2,31.4),(2015,39.9,29.8),(2016,41.5,36.7)]\n",
        "columnNames = ['year','temp','precip']\n",
        "weatherData = DataFrame(tuplelist, columns=columnNames)\n",
        "weatherData"
      ]
    },
    {
      "cell_type": "markdown",
      "metadata": {
        "id": "bofDdBCV8eFa"
      },
      "source": [
        "Creating DataFrame from numpy ndarray"
      ]
    },
    {
      "cell_type": "code",
      "execution_count": null,
      "metadata": {
        "id": "knqwXGk_8eFa"
      },
      "outputs": [],
      "source": [
        "import numpy as np\n",
        "\n",
        "npdata = np.random.randn(5,3)  # create a 5 by 3 random matrix\n",
        "columnNames = ['x1','x2','x3']\n",
        "data = DataFrame(npdata, columns=columnNames)\n",
        "data"
      ]
    },
    {
      "cell_type": "markdown",
      "metadata": {
        "id": "McY-K1-U8eFa"
      },
      "source": [
        "There are many ways to access elements of a DataFrame object."
      ]
    },
    {
      "cell_type": "code",
      "execution_count": null,
      "metadata": {
        "id": "YTA5pUuu8eFa"
      },
      "outputs": [],
      "source": [
        "# accessing an entire column will return a Series object\n",
        "\n",
        "print(data['x2'])\n",
        "print(type(data['x2']))"
      ]
    },
    {
      "cell_type": "code",
      "execution_count": null,
      "metadata": {
        "id": "t1S0cCCh8eFa"
      },
      "outputs": [],
      "source": [
        "# accessing an entire row will return a Series object\n",
        "\n",
        "print('Row 3 of data table:')\n",
        "print(data.iloc[2])       # returns the 3rd row of DataFrame\n",
        "print(type(data.iloc[2]))\n",
        "\n",
        "print('\\nRow 3 of car data table:')\n",
        "print(carData2.iloc[2])   # row contains objects of different types"
      ]
    },
    {
      "cell_type": "code",
      "execution_count": null,
      "metadata": {
        "id": "h4M9KlcQ8eFb"
      },
      "outputs": [],
      "source": [
        "# accessing a specific element of the DataFrame\n",
        "\n",
        "print('carData2 =\\n', carData2)\n",
        "\n",
        "print('\\ncarData2.iloc[1,2] =', carData2.iloc[1,2])                # retrieving second row, third column\n",
        "print('carData2.loc[1,\\'model\\'] =', carData2.loc[1,'model'])    # retrieving second row, column named 'model'\n",
        "\n",
        "# accessing a slice of the DataFrame\n",
        "\n",
        "print('\\ncarData2.iloc[1:3,1:3]=')\n",
        "print(carData2.iloc[1:3,1:3])"
      ]
    },
    {
      "cell_type": "code",
      "execution_count": null,
      "metadata": {
        "id": "t2IkCL6m8eFb"
      },
      "outputs": [],
      "source": [
        "print('carData2 =\\n', carData2, '\\n')\n",
        "\n",
        "print('carData2.shape =', carData2.shape)\n",
        "print('carData2.size =', carData2.size)"
      ]
    },
    {
      "cell_type": "code",
      "execution_count": null,
      "metadata": {
        "id": "9FsF6Aq88eFb"
      },
      "outputs": [],
      "source": [
        "# selection and filtering\n",
        "\n",
        "print('carData2 =\\n', carData2, '\\n')\n",
        "\n",
        "print('carData2[carData2.MSRP > 25000] =')\n",
        "print(carData2[carData2.MSRP > 25000])"
      ]
    },
    {
      "cell_type": "markdown",
      "metadata": {
        "id": "_dJKputS8eFb"
      },
      "source": [
        "### 2.2.3 Arithmetic Operations"
      ]
    },
    {
      "cell_type": "code",
      "execution_count": null,
      "metadata": {
        "id": "lYrSECdU8eFb"
      },
      "outputs": [],
      "source": [
        "print(data)\n",
        "\n",
        "print('\\nData transpose operation: data.T')\n",
        "print(data.T)    # transpose operation\n",
        "\n",
        "print('\\nAddition: data + 4')\n",
        "print(data + 4)    # addition operation\n",
        "\n",
        "print('\\nMultiplication: data * 10')\n",
        "print(data * 10)   # multiplication operation"
      ]
    },
    {
      "cell_type": "code",
      "execution_count": null,
      "metadata": {
        "id": "5tBpw4z28eFb"
      },
      "outputs": [],
      "source": [
        "print('data =\\n', data)\n",
        "\n",
        "columnNames = ['x1','x2','x3']\n",
        "data2 = DataFrame(np.random.randn(5,3), columns=columnNames)\n",
        "print('\\ndata2 =')\n",
        "print(data2)\n",
        "\n",
        "print('\\ndata + data2 = ')\n",
        "print(data.add(data2))\n",
        "\n",
        "print('\\ndata * data2 = ')\n",
        "print(data.mul(data2))"
      ]
    },
    {
      "cell_type": "code",
      "execution_count": null,
      "metadata": {
        "id": "qJIpfrea8eFb"
      },
      "outputs": [],
      "source": [
        "print(data.abs())    # get the absolute value for each element\n",
        "\n",
        "print('\\nMaximum value per column:')\n",
        "print(data.max())    # get maximum value for each column\n",
        "\n",
        "print('\\nMinimum value per row:')\n",
        "print(data.min(axis=1))    # get minimum value for each row\n",
        "\n",
        "print('\\nSum of values per column:')\n",
        "print(data.sum())    # get sum of values for each column\n",
        "\n",
        "print('\\nAverage value per row:')\n",
        "print(data.mean(axis=1))    # get average value for each row\n",
        "\n",
        "print('\\nCalculate max - min per column')\n",
        "f = lambda x: x.max() - x.min()\n",
        "print(data.apply(f))\n",
        "\n",
        "print('\\nCalculate max - min per row')\n",
        "f = lambda x: x.max() - x.min()\n",
        "print(data.apply(f, axis=1))"
      ]
    },
    {
      "cell_type": "markdown",
      "metadata": {
        "id": "1Dvsy6-Z8eFc"
      },
      "source": [
        "The value_counts() function can also be applied to a pandas DataFrame"
      ]
    },
    {
      "cell_type": "code",
      "execution_count": null,
      "metadata": {
        "id": "5BlFqYWK8eFc"
      },
      "outputs": [],
      "source": [
        "objects = {'shape': ['circle', 'square', 'square', 'square', 'circle', 'rectangle'],\n",
        "           'color': ['red', 'red', 'red', 'blue', 'blue', 'blue']}\n",
        "\n",
        "shapeData = DataFrame(objects)\n",
        "print('shapeData =\\n', shapeData, '\\n')\n",
        "\n",
        "print('shapeData.value_counts() =\\n', shapeData.value_counts().sort_values())"
      ]
    },
    {
      "cell_type": "markdown",
      "metadata": {
        "id": "m-6KfhnE8eFc"
      },
      "source": [
        "### 2.2.4 Plotting Series and DataFrame\n",
        "\n",
        "There are many built-in functions available to plot the data stored in a Series or a DataFrame.\n",
        "\n",
        "**(a)** Line plot"
      ]
    },
    {
      "cell_type": "code",
      "execution_count": null,
      "metadata": {
        "id": "SJBaRX5o_pEf"
      },
      "outputs": [],
      "source": [
        "%matplotlib inline\n",
        "\n",
        "s3 = Series([1.2,2.5,-2.2,3.1,-0.8,-3.2,1.4],\n",
        "            index = ['Jan 1','Jan 2','Jan 3','Jan 4','Jan 5','Jan 6','Jan 7'])"
      ]
    },
    {
      "cell_type": "code",
      "execution_count": null,
      "metadata": {
        "id": "BNgGHmhm8eFc"
      },
      "outputs": [],
      "source": [
        "s3.plot(kind='line', title='Line plot')"
      ]
    },
    {
      "cell_type": "markdown",
      "metadata": {
        "id": "7mmuEOof8eFc"
      },
      "source": [
        "**(b)** Bar plot"
      ]
    },
    {
      "cell_type": "code",
      "execution_count": null,
      "metadata": {
        "id": "cdUTeqWZ8eFc"
      },
      "outputs": [],
      "source": [
        "s3.plot(kind='bar', title='Bar plot')"
      ]
    },
    {
      "cell_type": "markdown",
      "metadata": {
        "id": "JUJqhXlA8eFc"
      },
      "source": [
        "**(c)** Histogram"
      ]
    },
    {
      "cell_type": "code",
      "execution_count": null,
      "metadata": {
        "id": "swlPhNvm8eFc"
      },
      "outputs": [],
      "source": [
        "s3.plot(kind='hist', title = 'Histogram')"
      ]
    },
    {
      "cell_type": "markdown",
      "metadata": {
        "id": "0L5UZaeR8eFc"
      },
      "source": [
        "**(d)** Box plot"
      ]
    },
    {
      "cell_type": "code",
      "execution_count": null,
      "metadata": {
        "id": "Ox2Ftgh-8eFd"
      },
      "outputs": [],
      "source": [
        "tuplelist = [(2011,45.1,32.4),(2012,42.4,34.5),(2013,47.2,39.2),\n",
        "              (2014,44.2,31.4),(2015,39.9,29.8),(2016,41.5,36.7)]\n",
        "columnNames = ['year','temp','precip']\n",
        "weatherData = DataFrame(tuplelist, columns=columnNames)\n",
        "weatherData[['temp','precip']].plot(kind='box', title='Box plot')"
      ]
    },
    {
      "cell_type": "markdown",
      "metadata": {
        "id": "lHrSTDEY8eFd"
      },
      "source": [
        "**(e)** Scatter plot"
      ]
    },
    {
      "cell_type": "code",
      "execution_count": null,
      "metadata": {
        "id": "nxzsPmi98eFd"
      },
      "outputs": [],
      "source": [
        "print('weatherData =\\n', weatherData)\n",
        "\n",
        "weatherData.plot(kind='scatter', x='temp', y='precip')"
      ]
    },
    {
      "cell_type": "markdown",
      "metadata": {
        "id": "nseafkAvB3SH"
      },
      "source": [
        "# Exercise: Explore crop production dataset\n",
        "\n",
        "The dataset `Production_Crops_E_Asia.csv` contains crop production statistics from the United Nations Food and Agriculture Organization (UN FAO) in East Asian countries from 1961 to 2019 (source: https://data.world/agriculture/crop-production). In this exercise, you'll explore the dataset using some of the operations from Modules 1-2 in this lab."
      ]
    },
    {
      "cell_type": "code",
      "execution_count": null,
      "metadata": {
        "id": "2378EspcCT4d"
      },
      "outputs": [],
      "source": [
        "import pandas as pd"
      ]
    },
    {
      "cell_type": "code",
      "execution_count": null,
      "metadata": {
        "id": "qSirJQ-E_wvk"
      },
      "outputs": [],
      "source": [
        "# Load the CSV file from its storage location on Google Drive\n",
        "prod = pd.read_csv('https://docs.google.com/uc?export=download&id=1r2DzEFS5tb5NjoIyAl6FvUDYW5DOKm5q')"
      ]
    },
    {
      "cell_type": "code",
      "execution_count": null,
      "metadata": {
        "id": "G2zrna493Xgc",
        "colab": {
          "base_uri": "https://localhost:8080/",
          "height": 424
        },
        "outputId": "5e630f34-f007-458c-c494-ea730bc82332"
      },
      "outputs": [
        {
          "output_type": "execute_result",
          "data": {
            "text/plain": [
              "      Area Code         Area  Item Code                              Item  \\\n",
              "0             2  Afghanistan        221               Almonds, with shell   \n",
              "1             2  Afghanistan        221               Almonds, with shell   \n",
              "2             2  Afghanistan        221               Almonds, with shell   \n",
              "3             2  Afghanistan        711  Anise, badian, fennel, coriander   \n",
              "4             2  Afghanistan        711  Anise, badian, fennel, coriander   \n",
              "...         ...          ...        ...                               ...   \n",
              "9633        249        Yemen       1729                   Treenuts, Total   \n",
              "9634        249        Yemen       1729                   Treenuts, Total   \n",
              "9635        249        Yemen       1735                Vegetables Primary   \n",
              "9636        249        Yemen       1735                Vegetables Primary   \n",
              "9637        249        Yemen       1735                Vegetables Primary   \n",
              "\n",
              "      Element Code         Element    Unit     Y1961 Y1961F     Y1962  ...  \\\n",
              "0             5312  Area harvested      ha       NaN    NaN       NaN  ...   \n",
              "1             5419           Yield   hg/ha       NaN    NaN       NaN  ...   \n",
              "2             5510      Production  tonnes       NaN    NaN       NaN  ...   \n",
              "3             5312  Area harvested      ha       NaN      M       NaN  ...   \n",
              "4             5419           Yield   hg/ha       NaN    NaN       NaN  ...   \n",
              "...            ...             ...     ...       ...    ...       ...  ...   \n",
              "9633          5419           Yield   hg/ha       NaN    NaN       NaN  ...   \n",
              "9634          5510      Production  tonnes       NaN    NaN       NaN  ...   \n",
              "9635          5312  Area harvested      ha    7000.0      A    7100.0  ...   \n",
              "9636          5419           Yield   hg/ha  107143.0     Fc  107042.0  ...   \n",
              "9637          5510      Production  tonnes   75000.0      A   76000.0  ...   \n",
              "\n",
              "         Y2015  Y2015F     Y2016  Y2016F     Y2017  Y2017F     Y2018  Y2018F  \\\n",
              "0      14676.0     NaN   19481.0     NaN   19793.0     NaN   20053.0     NaN   \n",
              "1      16521.0      Fc   16859.0      Fc   13788.0      Fc   17161.0      Fc   \n",
              "2      24246.0     NaN   32843.0     NaN   27291.0     NaN   34413.0     NaN   \n",
              "3      25000.0       F   25787.0      Im   28398.0      Im   26725.0      Im   \n",
              "4       7200.0      Fc    6982.0      Fc    6863.0      Fc    6898.0      Fc   \n",
              "...        ...     ...       ...     ...       ...     ...       ...     ...   \n",
              "9633   18805.0      Fc   18061.0      Fc   17863.0      Fc   17513.0      Fc   \n",
              "9634   11014.0       A   10591.0       A   10484.0       A   10483.0       A   \n",
              "9635   42489.0       A   39887.0       A   38612.0       A   40647.0       A   \n",
              "9636  113518.0      Fc  106887.0      Fc  107777.0      Fc  112627.0      Fc   \n",
              "9637  482325.0       A  426339.0       A  416147.0       A  457796.0       A   \n",
              "\n",
              "         Y2019  Y2019F  \n",
              "0      29203.0     NaN  \n",
              "1      13083.0      Fc  \n",
              "2      38205.0     NaN  \n",
              "3      27562.0      Im  \n",
              "4       6903.0      Fc  \n",
              "...        ...     ...  \n",
              "9633   17516.0      Fc  \n",
              "9634   11340.0       A  \n",
              "9635   41528.0       A  \n",
              "9636  115155.0      Fc  \n",
              "9637  478214.0       A  \n",
              "\n",
              "[9638 rows x 125 columns]"
            ],
            "text/html": [
              "\n",
              "  <div id=\"df-59c1ea8c-85b8-4d34-ab99-5393819a195c\" class=\"colab-df-container\">\n",
              "    <div>\n",
              "<style scoped>\n",
              "    .dataframe tbody tr th:only-of-type {\n",
              "        vertical-align: middle;\n",
              "    }\n",
              "\n",
              "    .dataframe tbody tr th {\n",
              "        vertical-align: top;\n",
              "    }\n",
              "\n",
              "    .dataframe thead th {\n",
              "        text-align: right;\n",
              "    }\n",
              "</style>\n",
              "<table border=\"1\" class=\"dataframe\">\n",
              "  <thead>\n",
              "    <tr style=\"text-align: right;\">\n",
              "      <th></th>\n",
              "      <th>Area Code</th>\n",
              "      <th>Area</th>\n",
              "      <th>Item Code</th>\n",
              "      <th>Item</th>\n",
              "      <th>Element Code</th>\n",
              "      <th>Element</th>\n",
              "      <th>Unit</th>\n",
              "      <th>Y1961</th>\n",
              "      <th>Y1961F</th>\n",
              "      <th>Y1962</th>\n",
              "      <th>...</th>\n",
              "      <th>Y2015</th>\n",
              "      <th>Y2015F</th>\n",
              "      <th>Y2016</th>\n",
              "      <th>Y2016F</th>\n",
              "      <th>Y2017</th>\n",
              "      <th>Y2017F</th>\n",
              "      <th>Y2018</th>\n",
              "      <th>Y2018F</th>\n",
              "      <th>Y2019</th>\n",
              "      <th>Y2019F</th>\n",
              "    </tr>\n",
              "  </thead>\n",
              "  <tbody>\n",
              "    <tr>\n",
              "      <th>0</th>\n",
              "      <td>2</td>\n",
              "      <td>Afghanistan</td>\n",
              "      <td>221</td>\n",
              "      <td>Almonds, with shell</td>\n",
              "      <td>5312</td>\n",
              "      <td>Area harvested</td>\n",
              "      <td>ha</td>\n",
              "      <td>NaN</td>\n",
              "      <td>NaN</td>\n",
              "      <td>NaN</td>\n",
              "      <td>...</td>\n",
              "      <td>14676.0</td>\n",
              "      <td>NaN</td>\n",
              "      <td>19481.0</td>\n",
              "      <td>NaN</td>\n",
              "      <td>19793.0</td>\n",
              "      <td>NaN</td>\n",
              "      <td>20053.0</td>\n",
              "      <td>NaN</td>\n",
              "      <td>29203.0</td>\n",
              "      <td>NaN</td>\n",
              "    </tr>\n",
              "    <tr>\n",
              "      <th>1</th>\n",
              "      <td>2</td>\n",
              "      <td>Afghanistan</td>\n",
              "      <td>221</td>\n",
              "      <td>Almonds, with shell</td>\n",
              "      <td>5419</td>\n",
              "      <td>Yield</td>\n",
              "      <td>hg/ha</td>\n",
              "      <td>NaN</td>\n",
              "      <td>NaN</td>\n",
              "      <td>NaN</td>\n",
              "      <td>...</td>\n",
              "      <td>16521.0</td>\n",
              "      <td>Fc</td>\n",
              "      <td>16859.0</td>\n",
              "      <td>Fc</td>\n",
              "      <td>13788.0</td>\n",
              "      <td>Fc</td>\n",
              "      <td>17161.0</td>\n",
              "      <td>Fc</td>\n",
              "      <td>13083.0</td>\n",
              "      <td>Fc</td>\n",
              "    </tr>\n",
              "    <tr>\n",
              "      <th>2</th>\n",
              "      <td>2</td>\n",
              "      <td>Afghanistan</td>\n",
              "      <td>221</td>\n",
              "      <td>Almonds, with shell</td>\n",
              "      <td>5510</td>\n",
              "      <td>Production</td>\n",
              "      <td>tonnes</td>\n",
              "      <td>NaN</td>\n",
              "      <td>NaN</td>\n",
              "      <td>NaN</td>\n",
              "      <td>...</td>\n",
              "      <td>24246.0</td>\n",
              "      <td>NaN</td>\n",
              "      <td>32843.0</td>\n",
              "      <td>NaN</td>\n",
              "      <td>27291.0</td>\n",
              "      <td>NaN</td>\n",
              "      <td>34413.0</td>\n",
              "      <td>NaN</td>\n",
              "      <td>38205.0</td>\n",
              "      <td>NaN</td>\n",
              "    </tr>\n",
              "    <tr>\n",
              "      <th>3</th>\n",
              "      <td>2</td>\n",
              "      <td>Afghanistan</td>\n",
              "      <td>711</td>\n",
              "      <td>Anise, badian, fennel, coriander</td>\n",
              "      <td>5312</td>\n",
              "      <td>Area harvested</td>\n",
              "      <td>ha</td>\n",
              "      <td>NaN</td>\n",
              "      <td>M</td>\n",
              "      <td>NaN</td>\n",
              "      <td>...</td>\n",
              "      <td>25000.0</td>\n",
              "      <td>F</td>\n",
              "      <td>25787.0</td>\n",
              "      <td>Im</td>\n",
              "      <td>28398.0</td>\n",
              "      <td>Im</td>\n",
              "      <td>26725.0</td>\n",
              "      <td>Im</td>\n",
              "      <td>27562.0</td>\n",
              "      <td>Im</td>\n",
              "    </tr>\n",
              "    <tr>\n",
              "      <th>4</th>\n",
              "      <td>2</td>\n",
              "      <td>Afghanistan</td>\n",
              "      <td>711</td>\n",
              "      <td>Anise, badian, fennel, coriander</td>\n",
              "      <td>5419</td>\n",
              "      <td>Yield</td>\n",
              "      <td>hg/ha</td>\n",
              "      <td>NaN</td>\n",
              "      <td>NaN</td>\n",
              "      <td>NaN</td>\n",
              "      <td>...</td>\n",
              "      <td>7200.0</td>\n",
              "      <td>Fc</td>\n",
              "      <td>6982.0</td>\n",
              "      <td>Fc</td>\n",
              "      <td>6863.0</td>\n",
              "      <td>Fc</td>\n",
              "      <td>6898.0</td>\n",
              "      <td>Fc</td>\n",
              "      <td>6903.0</td>\n",
              "      <td>Fc</td>\n",
              "    </tr>\n",
              "    <tr>\n",
              "      <th>...</th>\n",
              "      <td>...</td>\n",
              "      <td>...</td>\n",
              "      <td>...</td>\n",
              "      <td>...</td>\n",
              "      <td>...</td>\n",
              "      <td>...</td>\n",
              "      <td>...</td>\n",
              "      <td>...</td>\n",
              "      <td>...</td>\n",
              "      <td>...</td>\n",
              "      <td>...</td>\n",
              "      <td>...</td>\n",
              "      <td>...</td>\n",
              "      <td>...</td>\n",
              "      <td>...</td>\n",
              "      <td>...</td>\n",
              "      <td>...</td>\n",
              "      <td>...</td>\n",
              "      <td>...</td>\n",
              "      <td>...</td>\n",
              "      <td>...</td>\n",
              "    </tr>\n",
              "    <tr>\n",
              "      <th>9633</th>\n",
              "      <td>249</td>\n",
              "      <td>Yemen</td>\n",
              "      <td>1729</td>\n",
              "      <td>Treenuts, Total</td>\n",
              "      <td>5419</td>\n",
              "      <td>Yield</td>\n",
              "      <td>hg/ha</td>\n",
              "      <td>NaN</td>\n",
              "      <td>NaN</td>\n",
              "      <td>NaN</td>\n",
              "      <td>...</td>\n",
              "      <td>18805.0</td>\n",
              "      <td>Fc</td>\n",
              "      <td>18061.0</td>\n",
              "      <td>Fc</td>\n",
              "      <td>17863.0</td>\n",
              "      <td>Fc</td>\n",
              "      <td>17513.0</td>\n",
              "      <td>Fc</td>\n",
              "      <td>17516.0</td>\n",
              "      <td>Fc</td>\n",
              "    </tr>\n",
              "    <tr>\n",
              "      <th>9634</th>\n",
              "      <td>249</td>\n",
              "      <td>Yemen</td>\n",
              "      <td>1729</td>\n",
              "      <td>Treenuts, Total</td>\n",
              "      <td>5510</td>\n",
              "      <td>Production</td>\n",
              "      <td>tonnes</td>\n",
              "      <td>NaN</td>\n",
              "      <td>NaN</td>\n",
              "      <td>NaN</td>\n",
              "      <td>...</td>\n",
              "      <td>11014.0</td>\n",
              "      <td>A</td>\n",
              "      <td>10591.0</td>\n",
              "      <td>A</td>\n",
              "      <td>10484.0</td>\n",
              "      <td>A</td>\n",
              "      <td>10483.0</td>\n",
              "      <td>A</td>\n",
              "      <td>11340.0</td>\n",
              "      <td>A</td>\n",
              "    </tr>\n",
              "    <tr>\n",
              "      <th>9635</th>\n",
              "      <td>249</td>\n",
              "      <td>Yemen</td>\n",
              "      <td>1735</td>\n",
              "      <td>Vegetables Primary</td>\n",
              "      <td>5312</td>\n",
              "      <td>Area harvested</td>\n",
              "      <td>ha</td>\n",
              "      <td>7000.0</td>\n",
              "      <td>A</td>\n",
              "      <td>7100.0</td>\n",
              "      <td>...</td>\n",
              "      <td>42489.0</td>\n",
              "      <td>A</td>\n",
              "      <td>39887.0</td>\n",
              "      <td>A</td>\n",
              "      <td>38612.0</td>\n",
              "      <td>A</td>\n",
              "      <td>40647.0</td>\n",
              "      <td>A</td>\n",
              "      <td>41528.0</td>\n",
              "      <td>A</td>\n",
              "    </tr>\n",
              "    <tr>\n",
              "      <th>9636</th>\n",
              "      <td>249</td>\n",
              "      <td>Yemen</td>\n",
              "      <td>1735</td>\n",
              "      <td>Vegetables Primary</td>\n",
              "      <td>5419</td>\n",
              "      <td>Yield</td>\n",
              "      <td>hg/ha</td>\n",
              "      <td>107143.0</td>\n",
              "      <td>Fc</td>\n",
              "      <td>107042.0</td>\n",
              "      <td>...</td>\n",
              "      <td>113518.0</td>\n",
              "      <td>Fc</td>\n",
              "      <td>106887.0</td>\n",
              "      <td>Fc</td>\n",
              "      <td>107777.0</td>\n",
              "      <td>Fc</td>\n",
              "      <td>112627.0</td>\n",
              "      <td>Fc</td>\n",
              "      <td>115155.0</td>\n",
              "      <td>Fc</td>\n",
              "    </tr>\n",
              "    <tr>\n",
              "      <th>9637</th>\n",
              "      <td>249</td>\n",
              "      <td>Yemen</td>\n",
              "      <td>1735</td>\n",
              "      <td>Vegetables Primary</td>\n",
              "      <td>5510</td>\n",
              "      <td>Production</td>\n",
              "      <td>tonnes</td>\n",
              "      <td>75000.0</td>\n",
              "      <td>A</td>\n",
              "      <td>76000.0</td>\n",
              "      <td>...</td>\n",
              "      <td>482325.0</td>\n",
              "      <td>A</td>\n",
              "      <td>426339.0</td>\n",
              "      <td>A</td>\n",
              "      <td>416147.0</td>\n",
              "      <td>A</td>\n",
              "      <td>457796.0</td>\n",
              "      <td>A</td>\n",
              "      <td>478214.0</td>\n",
              "      <td>A</td>\n",
              "    </tr>\n",
              "  </tbody>\n",
              "</table>\n",
              "<p>9638 rows × 125 columns</p>\n",
              "</div>\n",
              "    <div class=\"colab-df-buttons\">\n",
              "\n",
              "  <div class=\"colab-df-container\">\n",
              "    <button class=\"colab-df-convert\" onclick=\"convertToInteractive('df-59c1ea8c-85b8-4d34-ab99-5393819a195c')\"\n",
              "            title=\"Convert this dataframe to an interactive table.\"\n",
              "            style=\"display:none;\">\n",
              "\n",
              "  <svg xmlns=\"http://www.w3.org/2000/svg\" height=\"24px\" viewBox=\"0 -960 960 960\">\n",
              "    <path d=\"M120-120v-720h720v720H120Zm60-500h600v-160H180v160Zm220 220h160v-160H400v160Zm0 220h160v-160H400v160ZM180-400h160v-160H180v160Zm440 0h160v-160H620v160ZM180-180h160v-160H180v160Zm440 0h160v-160H620v160Z\"/>\n",
              "  </svg>\n",
              "    </button>\n",
              "\n",
              "  <style>\n",
              "    .colab-df-container {\n",
              "      display:flex;\n",
              "      gap: 12px;\n",
              "    }\n",
              "\n",
              "    .colab-df-convert {\n",
              "      background-color: #E8F0FE;\n",
              "      border: none;\n",
              "      border-radius: 50%;\n",
              "      cursor: pointer;\n",
              "      display: none;\n",
              "      fill: #1967D2;\n",
              "      height: 32px;\n",
              "      padding: 0 0 0 0;\n",
              "      width: 32px;\n",
              "    }\n",
              "\n",
              "    .colab-df-convert:hover {\n",
              "      background-color: #E2EBFA;\n",
              "      box-shadow: 0px 1px 2px rgba(60, 64, 67, 0.3), 0px 1px 3px 1px rgba(60, 64, 67, 0.15);\n",
              "      fill: #174EA6;\n",
              "    }\n",
              "\n",
              "    .colab-df-buttons div {\n",
              "      margin-bottom: 4px;\n",
              "    }\n",
              "\n",
              "    [theme=dark] .colab-df-convert {\n",
              "      background-color: #3B4455;\n",
              "      fill: #D2E3FC;\n",
              "    }\n",
              "\n",
              "    [theme=dark] .colab-df-convert:hover {\n",
              "      background-color: #434B5C;\n",
              "      box-shadow: 0px 1px 3px 1px rgba(0, 0, 0, 0.15);\n",
              "      filter: drop-shadow(0px 1px 2px rgba(0, 0, 0, 0.3));\n",
              "      fill: #FFFFFF;\n",
              "    }\n",
              "  </style>\n",
              "\n",
              "    <script>\n",
              "      const buttonEl =\n",
              "        document.querySelector('#df-59c1ea8c-85b8-4d34-ab99-5393819a195c button.colab-df-convert');\n",
              "      buttonEl.style.display =\n",
              "        google.colab.kernel.accessAllowed ? 'block' : 'none';\n",
              "\n",
              "      async function convertToInteractive(key) {\n",
              "        const element = document.querySelector('#df-59c1ea8c-85b8-4d34-ab99-5393819a195c');\n",
              "        const dataTable =\n",
              "          await google.colab.kernel.invokeFunction('convertToInteractive',\n",
              "                                                    [key], {});\n",
              "        if (!dataTable) return;\n",
              "\n",
              "        const docLinkHtml = 'Like what you see? Visit the ' +\n",
              "          '<a target=\"_blank\" href=https://colab.research.google.com/notebooks/data_table.ipynb>data table notebook</a>'\n",
              "          + ' to learn more about interactive tables.';\n",
              "        element.innerHTML = '';\n",
              "        dataTable['output_type'] = 'display_data';\n",
              "        await google.colab.output.renderOutput(dataTable, element);\n",
              "        const docLink = document.createElement('div');\n",
              "        docLink.innerHTML = docLinkHtml;\n",
              "        element.appendChild(docLink);\n",
              "      }\n",
              "    </script>\n",
              "  </div>\n",
              "\n",
              "\n",
              "<div id=\"df-3b93ce54-ff8e-4d00-99f4-69782a13db6d\">\n",
              "  <button class=\"colab-df-quickchart\" onclick=\"quickchart('df-3b93ce54-ff8e-4d00-99f4-69782a13db6d')\"\n",
              "            title=\"Suggest charts.\"\n",
              "            style=\"display:none;\">\n",
              "\n",
              "<svg xmlns=\"http://www.w3.org/2000/svg\" height=\"24px\"viewBox=\"0 0 24 24\"\n",
              "     width=\"24px\">\n",
              "    <g>\n",
              "        <path d=\"M19 3H5c-1.1 0-2 .9-2 2v14c0 1.1.9 2 2 2h14c1.1 0 2-.9 2-2V5c0-1.1-.9-2-2-2zM9 17H7v-7h2v7zm4 0h-2V7h2v10zm4 0h-2v-4h2v4z\"/>\n",
              "    </g>\n",
              "</svg>\n",
              "  </button>\n",
              "\n",
              "<style>\n",
              "  .colab-df-quickchart {\n",
              "    background-color: #E8F0FE;\n",
              "    border: none;\n",
              "    border-radius: 50%;\n",
              "    cursor: pointer;\n",
              "    display: none;\n",
              "    fill: #1967D2;\n",
              "    height: 32px;\n",
              "    padding: 0 0 0 0;\n",
              "    width: 32px;\n",
              "  }\n",
              "\n",
              "  .colab-df-quickchart:hover {\n",
              "    background-color: #E2EBFA;\n",
              "    box-shadow: 0px 1px 2px rgba(60, 64, 67, 0.3), 0px 1px 3px 1px rgba(60, 64, 67, 0.15);\n",
              "    fill: #174EA6;\n",
              "  }\n",
              "\n",
              "  [theme=dark] .colab-df-quickchart {\n",
              "    background-color: #3B4455;\n",
              "    fill: #D2E3FC;\n",
              "  }\n",
              "\n",
              "  [theme=dark] .colab-df-quickchart:hover {\n",
              "    background-color: #434B5C;\n",
              "    box-shadow: 0px 1px 3px 1px rgba(0, 0, 0, 0.15);\n",
              "    filter: drop-shadow(0px 1px 2px rgba(0, 0, 0, 0.3));\n",
              "    fill: #FFFFFF;\n",
              "  }\n",
              "</style>\n",
              "\n",
              "  <script>\n",
              "    async function quickchart(key) {\n",
              "      const charts = await google.colab.kernel.invokeFunction(\n",
              "          'suggestCharts', [key], {});\n",
              "    }\n",
              "    (() => {\n",
              "      let quickchartButtonEl =\n",
              "        document.querySelector('#df-3b93ce54-ff8e-4d00-99f4-69782a13db6d button');\n",
              "      quickchartButtonEl.style.display =\n",
              "        google.colab.kernel.accessAllowed ? 'block' : 'none';\n",
              "    })();\n",
              "  </script>\n",
              "</div>\n",
              "    </div>\n",
              "  </div>\n"
            ]
          },
          "metadata": {},
          "execution_count": 3
        }
      ],
      "source": [
        "prod"
      ]
    },
    {
      "cell_type": "markdown",
      "metadata": {
        "id": "iU5MsVJu3Xgc"
      },
      "source": [
        "How many unique countries are in the dataset? What are the names of the countries? Print a list of the unique countries from the 'Area' column as well as the number of unique countries."
      ]
    },
    {
      "cell_type": "code",
      "execution_count": null,
      "metadata": {
        "id": "2lNR3pg63Xgc"
      },
      "outputs": [],
      "source": [
        "print(prod['Area'].unique())\n",
        "print('Number of unique countries: {}'.format(YOUR CODE HERE))"
      ]
    },
    {
      "cell_type": "markdown",
      "metadata": {
        "id": "7C6rzZOH3Xgc"
      },
      "source": [
        "What are the most common crops included in the dataset across all countries? Use value_counts() to print the number of occurrences of each crop category (column 'Item') in the dataframe."
      ]
    },
    {
      "cell_type": "code",
      "execution_count": null,
      "metadata": {
        "id": "k1BA3EZu3Xgc"
      },
      "outputs": [],
      "source": [
        "# YOUR CODE HERE"
      ]
    },
    {
      "cell_type": "markdown",
      "metadata": {
        "id": "UtO5cdTq3Xgc"
      },
      "source": [
        "Print a list of the countries in the dataframe sorted by the number of rows in which it appears."
      ]
    },
    {
      "cell_type": "code",
      "execution_count": null,
      "metadata": {
        "id": "S_nGbh_K3Xgd"
      },
      "outputs": [],
      "source": [
        "sorted([(country, df.shape[0]) for country, df in prod.groupby('Area')], key=YOUR CODE HERE)"
      ]
    },
    {
      "cell_type": "markdown",
      "metadata": {
        "id": "IOQD2loo3Xgd"
      },
      "source": [
        "What are the trends in crop production for cereal crops (includes maize, wheat, etc.) from 1961 to 2019? Plot a line plot of crop production for the following countries: India, Japan, Iran, Turkey, and China (mainland). Only plot the values in the columns with format 'YXXXX'."
      ]
    },
    {
      "cell_type": "markdown",
      "metadata": {
        "id": "h6BCB4dv3Xgd"
      },
      "source": [
        "Step 1: filter the dataframe to only include rows for the specified countries."
      ]
    },
    {
      "cell_type": "code",
      "execution_count": null,
      "metadata": {
        "id": "KYaQ1FOg3Xgd"
      },
      "outputs": [],
      "source": [
        "sel_prod = prod[prod['Area'].isin(YOUR CODE HERE)]"
      ]
    },
    {
      "cell_type": "markdown",
      "metadata": {
        "id": "HP5EPGKo3Xgd"
      },
      "source": [
        "Step 2: filter the columns to only include Area, Item, Element, and those matching the pattern 'YXXXX'."
      ]
    },
    {
      "cell_type": "code",
      "execution_count": null,
      "metadata": {
        "id": "7lSt84Vy3Xgd"
      },
      "outputs": [],
      "source": [
        "year_cols = [col for col in sel_prod.columns if (col.startswith('Y') and len(col) == 5)]"
      ]
    },
    {
      "cell_type": "code",
      "execution_count": null,
      "metadata": {
        "id": "X_7GZ4kR3Xgd"
      },
      "outputs": [],
      "source": [
        "sel_prod = sel_prod[['Area', 'Item', 'Element'] + year_cols]"
      ]
    },
    {
      "cell_type": "code",
      "execution_count": null,
      "metadata": {
        "id": "kSx8epTS3Xgd"
      },
      "outputs": [],
      "source": [
        "sel_prod"
      ]
    },
    {
      "cell_type": "markdown",
      "metadata": {
        "id": "pRTvvDNl3Xgd"
      },
      "source": [
        "Step 3: filter that dataframe to include only the rows for which Element has the value 'Production' and Item contains 'Cereals, Total'."
      ]
    },
    {
      "cell_type": "code",
      "execution_count": null,
      "metadata": {
        "id": "BDrNHb1S3Xgd"
      },
      "outputs": [],
      "source": [
        "sel_prod = sel_prod[YOUR CODE HERE]"
      ]
    },
    {
      "cell_type": "markdown",
      "metadata": {
        "id": "7O_vVGUv3Xgd"
      },
      "source": [
        "Step 4: Plot the line plot of production values from 1961 to 2019 for each of the 3 countries (each country should be a separate line). Only the 'YXXXX' columns should be used for the line plot values.\n",
        "\n",
        "Note: pandas by default plots by column, so to plot each of the countries as its own line, we need to transpose the dataframe so that each column contains the values for one country."
      ]
    },
    {
      "cell_type": "code",
      "execution_count": null,
      "metadata": {
        "id": "p2nsOe0s3Xgd"
      },
      "outputs": [],
      "source": [
        "sel_prod_t = sel_prod.T"
      ]
    },
    {
      "cell_type": "code",
      "execution_count": null,
      "metadata": {
        "id": "Huiphs203Xgd"
      },
      "outputs": [],
      "source": [
        "sel_prod_t"
      ]
    },
    {
      "cell_type": "code",
      "execution_count": null,
      "metadata": {
        "id": "rOIfpoJE3Xgd"
      },
      "outputs": [],
      "source": [
        "sel_prod_t.columns = ['India', 'Japan', 'Turkey']"
      ]
    },
    {
      "cell_type": "code",
      "execution_count": null,
      "metadata": {
        "id": "uTAeQZoK3Xgd"
      },
      "outputs": [],
      "source": [
        "sel_prod_t[3:].plot(kind='line', title='Total Cereals Production from 1961 to 2019 (tonnes)')"
      ]
    }
  ],
  "metadata": {
    "colab": {
      "provenance": [],
      "include_colab_link": true
    },
    "kernelspec": {
      "display_name": "Python 3",
      "language": "python",
      "name": "python3"
    },
    "language_info": {
      "codemirror_mode": {
        "name": "ipython",
        "version": 3
      },
      "file_extension": ".py",
      "mimetype": "text/x-python",
      "name": "python",
      "nbconvert_exporter": "python",
      "pygments_lexer": "ipython3",
      "version": "3.8.8"
    }
  },
  "nbformat": 4,
  "nbformat_minor": 0
}